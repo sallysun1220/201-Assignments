{
 "cells": [
  {
   "cell_type": "markdown",
   "metadata": {
    "collapsed": false
   },
   "source": [
    "# Homework 2"
   ]
  },
  {
   "cell_type": "markdown",
   "metadata": {},
   "source": [
    "### Rankings from Last Homework using Linear Model "
   ]
  },
  {
   "cell_type": "code",
   "execution_count": 1,
   "metadata": {
    "collapsed": false
   },
   "outputs": [
    {
     "data": {
      "text/plain": [
       "[('phi', -9.0713016680509426),\n",
       " ('nyk', -8.9846792365049062),\n",
       " ('min', -6.9884847388172808),\n",
       " ('lal', -6.42596915823842),\n",
       " ('orl', -5.688179805155702),\n",
       " ('cha', -3.5100400624008499),\n",
       " ('sac', -3.0545446942902479),\n",
       " ('bkn', -3.0150492176493122),\n",
       " ('den', -2.7903752333891112),\n",
       " ('mia', -2.5448627439367275),\n",
       " ('det', -1.0527465051233891),\n",
       " ('mil', -0.89810680019821854),\n",
       " ('ind', -0.36815403696786614),\n",
       " ('bos', -0.36137456946100244),\n",
       " ('phx', 0.23671091481345596),\n",
       " ('was', 0.46635158566466706),\n",
       " ('okc', 1.446605732957003),\n",
       " ('uta', 1.4895167515633994),\n",
       " ('nop', 1.7680059871718614),\n",
       " ('tor', 1.8789908840163922),\n",
       " ('chi', 2.6334679219390389),\n",
       " ('mem', 3.2997044421142965),\n",
       " ('dal', 3.321829012678565),\n",
       " ('hou', 3.7976213568494614),\n",
       " ('por', 3.9852462827718012),\n",
       " ('atl', 3.9911674082839079),\n",
       " ('cle', 4.7438536532571538),\n",
       " ('lac', 5.6772765292288145),\n",
       " ('sas', 5.6796437144362049),\n",
       " ('gsw', 10.337876292437926)]"
      ]
     },
     "execution_count": 1,
     "metadata": {},
     "output_type": "execute_result"
    }
   ],
   "source": [
    "%matplotlib inline\n",
    "import json\n",
    "import pandas as pd\n",
    "import numpy as np\n",
    "import numpy.linalg \n",
    "from collections import OrderedDict\n",
    "import matplotlib.pyplot as plt\n",
    "\n",
    "d = json.load(open('nba2014-2015-seasonWL-WL-data.json'), object_pairs_hook=OrderedDict)\n",
    "list_values = [v for v in d.values()]\n",
    "new_list = [list_values[k][j] for k in range(len(list_values)) for j in range(len(list_values[k]))]\n",
    "#print (new_list[0])\n",
    "items = [new_list[k].values() for k in range(len(new_list))]\n",
    "N = len(items)\n",
    "x = np.zeros((N,31))\n",
    "y = np.zeros(len(items))\n",
    "#print (N)\n",
    "label = list()\n",
    "match_list = list()\n",
    "\n",
    "for i in range(len(items)):\n",
    "    list_keys = [ k for k in items[i] ]\n",
    "    #  print (list_keys)\n",
    "    match_list.append(list_keys)\n",
    "    y[i] = int (list_keys[2]) -  int(list_keys[3])\n",
    "    label.append(list_keys[0])\n",
    "\n",
    "team_name = sorted(set(label),key=label.index)\n",
    "#print (team_name)\n",
    "for i in range(len(team_name)):\n",
    "    for j in range(N):\n",
    "        if (team_name[i] == match_list[j][0]):\n",
    "            x[j][i] = 1\n",
    "        if (team_name[i] == match_list[j][1]):\n",
    "            x[j][i] = -1\n",
    "\n",
    "x[:,30] = 1\n",
    "\n",
    "m = x.T .dot(x)\n",
    "#print(m)\n",
    "r = np.zeros(31)\n",
    "r[0:30] = 1\n",
    "r[30] = 0\n",
    "#print(r)\n",
    "#print(m.shape)\n",
    "T = np.zeros((32,32))\n",
    "\n",
    "#print(T.shape)\n",
    "T[:31,:31]= m\n",
    "T[:31,31] = r\n",
    "T[31,:31] = r.T\n",
    "#print (T)\n",
    "\n",
    "xy = np.zeros(32)\n",
    "xy[:31] = x.T .dot(y)\n",
    "#print(xy)\n",
    "\n",
    "sol_ini = np.zeros(32)\n",
    "\n",
    "sol_ini = numpy.linalg.inv(T) .dot(xy)\n",
    "for i in range (len(y)):\n",
    "    if ((y[i]) >  0):\n",
    "        y[i] = 1\n",
    "    else:\n",
    "        y[i] = 0\n",
    "\n",
    "        \n",
    "#print (sol_ini)\n",
    "result = dict()\n",
    "for i in range(len(team_name)):\n",
    "    result[team_name[i]] = sol_ini[i]\n",
    "\n",
    "linear_model = sorted(result.items(), key=lambda result:result[1])   \n",
    "linear_model"
   ]
  },
  {
   "cell_type": "markdown",
   "metadata": {},
   "source": [
    "## Problem 6(b)(d)"
   ]
  },
  {
   "cell_type": "code",
   "execution_count": 2,
   "metadata": {
    "collapsed": true
   },
   "outputs": [],
   "source": [
    "def logit(beta):\n",
    "    N = 1408\n",
    "    result = []\n",
    "    logistic = lambda t: np.exp(t)/(1. + np.exp(t))\n",
    "    for i in range(N):\n",
    "        t = np.dot(beta.T, x[i,:])\n",
    "        result.append(logistic(t))\n",
    "    return result\n",
    "\n",
    "def nll(beta):\n",
    "    negl = 0\n",
    "    for i in range(N):\n",
    "        negl += -y[i]* np.dot(beta,x[i,:]) + np.log(1+np.exp(np.dot(beta,x[i,:])))    \n",
    "    return negl\n",
    "\n",
    "def W(x):\n",
    "    m = list()\n",
    "    for j in range(N):\n",
    "        m.append( sig[j]*(1-sig[j]))\n",
    "    return np.diag(m)\n",
    "\n"
   ]
  },
  {
   "cell_type": "code",
   "execution_count": 3,
   "metadata": {
    "collapsed": false,
    "scrolled": false
   },
   "outputs": [
    {
     "data": {
      "image/png": "[encoded data removed]",
      "text/plain": [
       "<matplotlib.figure.Figure at 0x10594c978>"
      ]
     },
     "metadata": {},
     "output_type": "display_data"
    }
   ],
   "source": [
    "\n",
    "sol = np.zeros(31)\n",
    "#sol = sol_ini\n",
    "W0 = np.zeros([N,N])\n",
    "r = np.zeros(31)\n",
    "r[0:30] = 1\n",
    "r[30] = 0\n",
    "#print(r)\n",
    "#print(m.shape)\n",
    "T = np.zeros((32,32))\n",
    "T[:31,31] = r\n",
    "T[31,:31] = r.T\n",
    "r_1 = np.zeros(32)\n",
    "\n",
    "ite = 10\n",
    "itelist = list()\n",
    "nll_list =list()\n",
    "\n",
    "\n",
    "\n",
    "for i in range(ite):\n",
    "    itelist.append(i)\n",
    "    sig = logit(sol[0:31])\n",
    "    W0 = W(sig)\n",
    "    T[:31,:31] = x.T .dot(W0) .dot (x)\n",
    "    y_beta = np.dot(numpy.linalg.inv(W0),(y-sig)) + np.dot(x,sol[0:31])\n",
    "    r_0 = np.dot(np.dot(x.T,W0),y_beta) \n",
    "    r_1[:31] = r_0[:31]\n",
    "    sol = numpy.linalg.solve(T, r_1)\n",
    "    nll_list.append(nll(sol[0:31]))\n",
    "    plt.ylabel('negative log likelihood')\n",
    "    plt.xlabel('iterations')\n",
    "    plt.title('Negative Log Likelihood')\n",
    "\n",
    "\n",
    "\n",
    "\n",
    "\n",
    "plt.plot(itelist,nll_list)\n",
    "plt.xlabel('Iterations')\n",
    "plt.ylabel('Negative Log Likelihood')\n",
    "plt.title('')\n",
    "plt.show()"
   ]
  },
  {
   "cell_type": "code",
   "execution_count": 4,
   "metadata": {
    "collapsed": false
   },
   "outputs": [
    {
     "data": {
      "text/plain": [
       "[('phi', -1.4669074249142182),\n",
       " ('nyk', -1.4196347848721869),\n",
       " ('min', -1.2452105617815552),\n",
       " ('lal', -1.0673091657529661),\n",
       " ('orl', -0.90490166122492932),\n",
       " ('sac', -0.60082131658254379),\n",
       " ('den', -0.57112965998339538),\n",
       " ('cha', -0.51595307738272866),\n",
       " ('det', -0.44565737046270337),\n",
       " ('ind', -0.25466599588855121),\n",
       " ('mia', -0.20291861771517747),\n",
       " ('bos', -0.1716920061218361),\n",
       " ('bkn', -0.17140891860711821),\n",
       " ('mil', -0.093527892460574816),\n",
       " ('uta', -0.012741496212831344),\n",
       " ('phx', 0.032191227600400878),\n",
       " ('okc', 0.17793802295357314),\n",
       " ('was', 0.22035141307851758),\n",
       " ('nop', 0.33056154050531805),\n",
       " ('tor', 0.35350071945547518),\n",
       " ('chi', 0.35907120709115786),\n",
       " ('por', 0.52161916273328446),\n",
       " ('dal', 0.52396597550501167),\n",
       " ('sas', 0.72627777066936738),\n",
       " ('lac', 0.75946678642743848),\n",
       " ('mem', 0.79341213706384661),\n",
       " ('cle', 0.83294244456804323),\n",
       " ('atl', 0.85168554691723808),\n",
       " ('hou', 0.9812357088813255),\n",
       " ('gsw', 1.6802602865133172)]"
      ]
     },
     "execution_count": 4,
     "metadata": {},
     "output_type": "execute_result"
    }
   ],
   "source": [
    "for i in range(len(team_name)):\n",
    "    result[team_name[i]] = sol[i]\n",
    "\n",
    "sorted(result.items(), key=lambda result:result[1])"
   ]
  },
  {
   "cell_type": "markdown",
   "metadata": {},
   "source": [
    "## Problem 6(c)(d)"
   ]
  },
  {
   "cell_type": "code",
   "execution_count": 5,
   "metadata": {
    "collapsed": false
   },
   "outputs": [
    {
     "data": {
      "image/png": "[encoded data removed]",
      "text/plain": [
       "<matplotlib.figure.Figure at 0x11f228898>"
      ]
     },
     "metadata": {},
     "output_type": "display_data"
    }
   ],
   "source": [
    "sol = np.zeros(31)\n",
    "#sol = (2/10) * sol_ini\n",
    "W0 = 1/8 * np.identity(N)\n",
    "r = np.zeros(31)\n",
    "r[0:30] = 1\n",
    "r[30] = 0\n",
    "#print(r)\n",
    "#print(m.shape)\n",
    "T = np.zeros((32,32))\n",
    "T[:31,31] = r\n",
    "T[31,:31] = r.T\n",
    "r_1 = np.zeros(32)\n",
    "\n",
    "ite = 20\n",
    "itelist = list()\n",
    "nll_list =list()\n",
    "\n",
    "\n",
    "\n",
    "for i in range(ite):\n",
    "    itelist.append(i)\n",
    "    sig = logit(sol[0:31])\n",
    "   #W0 = W(sig)\n",
    "    T[:31,:31] = x.T .dot(W0) .dot (x)\n",
    "    y_beta = 4*(y- sig) + np.dot(x,sol[0:31])\n",
    "    r_0 = np.dot(np.dot(x.T,W0),y_beta) \n",
    "    r_1[:31] = r_0[:31]\n",
    "    sol = numpy.linalg.solve(T, r_1)\n",
    "    nll_list.append(nll(sol[0:31]))\n",
    "    plt.ylabel('negative log likelihood')\n",
    "    plt.xlabel('iterations')\n",
    "    plt.title('Negative Log Likelihood')\n",
    "\n",
    "\n",
    "\n",
    "plt.plot(itelist,nll_list)\n",
    "plt.xlabel('x')\n",
    "plt.ylabel('y')\n",
    "plt.show()"
   ]
  },
  {
   "cell_type": "code",
   "execution_count": 6,
   "metadata": {
    "collapsed": false
   },
   "outputs": [
    {
     "data": {
      "text/plain": [
       "[('phi', -1.4669072161579526),\n",
       " ('nyk', -1.4196345973842961),\n",
       " ('min', -1.245210379906142),\n",
       " ('lal', -1.0673090402145267),\n",
       " ('orl', -0.90490159074085286),\n",
       " ('sac', -0.60082127033828414),\n",
       " ('den', -0.57112960735847074),\n",
       " ('cha', -0.51595303670869774),\n",
       " ('det', -0.44565733782450223),\n",
       " ('ind', -0.25466597619052728),\n",
       " ('mia', -0.20291860593538102),\n",
       " ('bos', -0.17169199450110811),\n",
       " ('bkn', -0.17140890934618136),\n",
       " ('mil', -0.093527884124359292),\n",
       " ('uta', -0.012741501496039849),\n",
       " ('phx', 0.032191219896085692),\n",
       " ('okc', 0.17793800528470985),\n",
       " ('was', 0.22035139590191466),\n",
       " ('nop', 0.33056150620365149),\n",
       " ('tor', 0.3535006940101002),\n",
       " ('chi', 0.35907118071505661),\n",
       " ('por', 0.5216191172907485),\n",
       " ('dal', 0.52396592727066049),\n",
       " ('sas', 0.72627770627715549),\n",
       " ('lac', 0.75946671111631336),\n",
       " ('mem', 0.79341205634025957),\n",
       " ('cle', 0.83294237118155012),\n",
       " ('atl', 0.85168547884837098),\n",
       " ('hou', 0.98123560680142485),\n",
       " ('gsw', 1.6802599710893209)]"
      ]
     },
     "execution_count": 6,
     "metadata": {},
     "output_type": "execute_result"
    }
   ],
   "source": [
    "for i in range(len(team_name)):\n",
    "    result[team_name[i]] = sol[i]\n",
    "\n",
    "mm = sorted(result.items(), key=lambda result:result[1])\n",
    "mm"
   ]
  },
  {
   "cell_type": "markdown",
   "metadata": {},
   "source": [
    "## Problem 6(e)\n",
    "\n",
    "### Win/Loss Percentages"
   ]
  },
  {
   "cell_type": "code",
   "execution_count": 7,
   "metadata": {
    "collapsed": false
   },
   "outputs": [
    {
     "name": "stdout",
     "output_type": "stream",
     "text": [
      "win/loss percentage:\n"
     ]
    },
    {
     "data": {
      "text/plain": [
       "[('phi', 0.2857142857142857),\n",
       " ('nyk', 0.2898550724637681),\n",
       " ('min', 0.3088235294117647),\n",
       " ('lal', 0.36363636363636365),\n",
       " ('orl', 0.45901639344262296),\n",
       " ('sac', 0.543859649122807),\n",
       " ('den', 0.5517241379310345),\n",
       " ('cha', 0.6666666666666666),\n",
       " ('det', 0.7115384615384616),\n",
       " ('mia', 0.8367346938775511),\n",
       " ('ind', 0.8541666666666666),\n",
       " ('bkn', 0.8775510204081632),\n",
       " ('uta', 0.9148936170212766),\n",
       " ('bos', 0.9375),\n",
       " ('phx', 0.9555555555555556),\n",
       " ('mil', 0.9787234042553191),\n",
       " ('okc', 1.119047619047619),\n",
       " ('nop', 1.2195121951219512),\n",
       " ('was', 1.2272727272727273),\n",
       " ('chi', 1.380952380952381),\n",
       " ('dal', 1.4102564102564104),\n",
       " ('tor', 1.4864864864864864),\n",
       " ('por', 1.4864864864864864),\n",
       " ('lac', 1.641025641025641),\n",
       " ('mem', 1.6756756756756757),\n",
       " ('sas', 1.7352941176470589),\n",
       " ('cle', 1.8918918918918919),\n",
       " ('hou', 1.9444444444444444),\n",
       " ('atl', 2.1515151515151514),\n",
       " ('gsw', 3.9545454545454546)]"
      ]
     },
     "execution_count": 7,
     "metadata": {},
     "output_type": "execute_result"
    }
   ],
   "source": [
    "print ('win/loss percentage:')\n",
    "frac = list()\n",
    "for i in range (len(team_name)):\n",
    "    m = 0\n",
    "    n = 0\n",
    "    \n",
    "    for j in range(len(y)):\n",
    "        if (team_name[i] == match_list[j][0]):\n",
    "            if (y[j] == 1):\n",
    "                m += 1\n",
    "            else:\n",
    "                n += 1\n",
    "        if (team_name[i] == match_list[j][1]):\n",
    "            if (y[j] == 0):\n",
    "                m += 1\n",
    "            else:\n",
    "                n += 1\n",
    "    frac.append(m/n)\n",
    "    #print (round(m/n,4))\n",
    "    #print (team_name[i],(m/n))\n",
    "for i in range(len(team_name)):\n",
    "    result[team_name[i]] = frac[i]\n",
    "\n",
    "k = sorted(result.items(), key=lambda result:result[1])   \n",
    "k\n",
    "#print (frac)"
   ]
  },
  {
   "cell_type": "markdown",
   "metadata": {},
   "source": [
    "### Check if linear model can match win/loss percentage"
   ]
  },
  {
   "cell_type": "code",
   "execution_count": 8,
   "metadata": {
    "collapsed": false
   },
   "outputs": [
    {
     "name": "stdout",
     "output_type": "stream",
     "text": [
      "Match number: 11\n"
     ]
    }
   ],
   "source": [
    "sum = 0\n",
    "for i in range (len(team_name)):\n",
    "    if (linear_model[i][0] == k [i][0]):\n",
    "        sum += 1\n",
    "print ('Match number:',sum)"
   ]
  },
  {
   "cell_type": "markdown",
   "metadata": {},
   "source": [
    "### Check if nonlinear model can match win/loss percentage"
   ]
  },
  {
   "cell_type": "code",
   "execution_count": 9,
   "metadata": {
    "collapsed": false
   },
   "outputs": [
    {
     "name": "stdout",
     "output_type": "stream",
     "text": [
      "Match number: 12\n"
     ]
    }
   ],
   "source": [
    "sum = 0\n",
    "for i in range (len(team_name)):\n",
    "    if (mm[i][0] == k[i][0]):\n",
    "        sum += 1\n",
    "print ('Match number:',sum)"
   ]
  },
  {
   "cell_type": "markdown",
   "metadata": {},
   "source": [
    "### Summary\n",
    "\n",
    "Compared with the win/loss percentage, the ranking estimation using logistic regression basically has the similar results but not exactly the same. As seen from the ranking results, some teams' betas are very close, which leads to a different order among 2 or 3 teams from the win/loss ranking. This makes sense because the score of each team should be independent but our derived non-linear model takes the score differences (y = 1,0) between 2 teams into consideration. The underlying assumption is that these 30 teams may have correlations, leading to the differences between our results and the win/loss ranking. \n",
    "\n",
    "Compared with the results from linear model we applied in the last homework, logistic regressin seem to have a better performance. (Logistic regression predicts 12 correct rankings but linear regression predicts 11 correct rankings). It seems that for this NBA ranking, logistic regression performs well since score differences are converted into (0,1) binary number, which makes the classification more robust to numerical factors."
   ]
  },
  {
   "cell_type": "code",
   "execution_count": null,
   "metadata": {
    "collapsed": true
   },
   "outputs": [],
   "source": []
  }
 ],
 "metadata": {
  "anaconda-cloud": {},
  "kernelspec": {
   "display_name": "Python [conda root]",
   "language": "python",
   "name": "conda-root-py"
  },
  "language_info": {
   "codemirror_mode": {
    "name": "ipython",
    "version": 3
   },
   "file_extension": ".py",
   "mimetype": "text/x-python",
   "name": "python",
   "nbconvert_exporter": "python",
   "pygments_lexer": "ipython3",
   "version": "3.5.2"
  }
 },
 "nbformat": 4,
 "nbformat_minor": 1
}
