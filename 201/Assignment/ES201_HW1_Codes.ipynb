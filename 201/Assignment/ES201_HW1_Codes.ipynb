{
 "cells": [
  {
   "cell_type": "code",
   "execution_count": 67,
   "metadata": {
    "collapsed": false
   },
   "outputs": [
    {
     "data": {
      "text/plain": [
       "[('phi', -9.0713016680509426),\n",
       " ('nyk', -8.9846792365049062),\n",
       " ('min', -6.9884847388172808),\n",
       " ('lal', -6.42596915823842),\n",
       " ('orl', -5.688179805155702),\n",
       " ('cha', -3.5100400624008499),\n",
       " ('sac', -3.0545446942902479),\n",
       " ('bkn', -3.0150492176493122),\n",
       " ('den', -2.7903752333891112),\n",
       " ('mia', -2.5448627439367275),\n",
       " ('det', -1.0527465051233891),\n",
       " ('mil', -0.89810680019821854),\n",
       " ('ind', -0.36815403696786614),\n",
       " ('bos', -0.36137456946100244),\n",
       " ('phx', 0.23671091481345596),\n",
       " ('was', 0.46635158566466706),\n",
       " ('okc', 1.446605732957003),\n",
       " ('uta', 1.4895167515633994),\n",
       " ('nop', 1.7680059871718614),\n",
       " ('tor', 1.8789908840163922),\n",
       " ('chi', 2.6334679219390389),\n",
       " ('mem', 3.2997044421142965),\n",
       " ('dal', 3.321829012678565),\n",
       " ('hou', 3.7976213568494614),\n",
       " ('por', 3.9852462827718012),\n",
       " ('atl', 3.9911674082839079),\n",
       " ('cle', 4.7438536532571538),\n",
       " ('lac', 5.6772765292288145),\n",
       " ('sas', 5.6796437144362049),\n",
       " ('gsw', 10.337876292437926)]"
      ]
     },
     "execution_count": 67,
     "metadata": {},
     "output_type": "execute_result"
    }
   ],
   "source": [
    "%matplotlib inline\n",
    "import json\n",
    "import pandas as pd\n",
    "import numpy as np\n",
    "from numpy.linalg import inv\n",
    "from collections import OrderedDict\n",
    "import matplotlib.pyplot as plt\n",
    "\n",
    "d = json.load(open('nba2014-2015-seasonWL-WL-data.json'), object_pairs_hook=OrderedDict)\n",
    "list_values = [v for v in d.values()]\n",
    "new_list = [list_values[k][j] for k in range(len(list_values)) for j in range(len(list_values[k]))]\n",
    "#print (new_list[0])\n",
    "items = [new_list[k].values() for k in range(len(new_list))]\n",
    "N = len(items)\n",
    "x = np.zeros((N,31))\n",
    "y = np.zeros(len(items))\n",
    "#print (N)\n",
    "label = list()\n",
    "match_list = list()\n",
    "\n",
    "for i in range(len(items)):\n",
    "    list_keys = [ k for k in items[i] ]\n",
    "    #  print (list_keys)\n",
    "    match_list.append(list_keys)\n",
    "    y[i] = int (list_keys[2]) -  int(list_keys[3])\n",
    "    label.append(list_keys[0])\n",
    "\n",
    "team_name = sorted(set(label),key=label.index)\n",
    "#print (team_name)\n",
    "for i in range(len(team_name)):\n",
    "    for j in range(N):\n",
    "        if (team_name[i] == match_list[j][0]):\n",
    "            x[j][i] = 1\n",
    "        if (team_name[i] == match_list[j][1]):\n",
    "            x[j][i] = -1\n",
    "\n",
    "x[:,30] = 1\n",
    "\n",
    "m = x.T .dot(x)\n",
    "#print(m)\n",
    "r = np.zeros(31)\n",
    "r[0:30] = 1\n",
    "r[30] = 0\n",
    "#print(r)\n",
    "#print(m.shape)\n",
    "T = np.zeros((32,32))\n",
    "\n",
    "#print(T.shape)\n",
    "T[:31,:31]= m\n",
    "T[:31,31] = r\n",
    "T[31,:31] = r.T\n",
    "#print (T)\n",
    "\n",
    "xy = np.zeros(32)\n",
    "xy[:31] = x.T .dot(y)\n",
    "#print(xy)\n",
    "\n",
    "sol = np.zeros(32)\n",
    "\n",
    "sol = inv(T) .dot(xy)\n",
    "#print (sol)\n",
    "result = dict()\n",
    "\n",
    "for i in range(len(team_name)):\n",
    "    result[team_name[i]] = sol[i]\n",
    "\n",
    "sorted(result.items(), key=lambda result:result[1])"
   ]
  },
  {
   "cell_type": "code",
   "execution_count": null,
   "metadata": {
    "collapsed": true
   },
   "outputs": [],
   "source": []
  },
  {
   "cell_type": "code",
   "execution_count": null,
   "metadata": {
    "collapsed": true
   },
   "outputs": [],
   "source": []
  }
 ],
 "metadata": {
  "anaconda-cloud": {},
  "kernelspec": {
   "display_name": "Python [conda root]",
   "language": "python",
   "name": "conda-root-py"
  },
  "language_info": {
   "codemirror_mode": {
    "name": "ipython",
    "version": 3
   },
   "file_extension": ".py",
   "mimetype": "text/x-python",
   "name": "python",
   "nbconvert_exporter": "python",
   "pygments_lexer": "ipython3",
   "version": "3.5.2"
  }
 },
 "nbformat": 4,
 "nbformat_minor": 1
}
